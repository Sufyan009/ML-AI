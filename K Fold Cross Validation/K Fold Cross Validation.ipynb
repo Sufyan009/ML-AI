{
 "cells": [
  {
   "cell_type": "markdown",
   "id": "8ed5a50f-9562-4db8-b46f-1dad18f71075",
   "metadata": {},
   "source": [
    "K-Fold Cross Validation is a popular technique for evaluating the performance of a machine learning model on a dataset. It helps ensure that the model's performance is stable and not overly dependent on any particular part of the dataset. Here's an overview of K-Fold Cross Validation:\n",
    "\n",
    "### 1. **Purpose of K-Fold Cross Validation**:\n",
    "   - **Model Evaluation**: When training machine learning models, we want to test the model’s performance on data it hasn’t seen. Splitting data into training and testing sets helps, but a single train-test split might not provide a reliable estimate if the dataset is small or has high variability. K-Fold Cross Validation addresses this by repeatedly testing the model on different subsets of the data.\n",
    "   - **Mitigates Overfitting and Underfitting**: By repeatedly testing the model on different segments of data, K-Fold Cross Validation reduces the risk of overfitting (where the model performs well on training data but poorly on unseen data) or underfitting (where the model performs poorly on both).\n",
    "\n",
    "### 2. **How K-Fold Cross Validation Works**:\n",
    "   - **Splitting the Data**: The dataset is divided into `k` equal-sized subsets, or \"folds.\" For example, in 5-Fold Cross Validation, the dataset is split into 5 subsets.\n",
    "   - **Training and Testing Process**: The model is trained `k` times, each time on a different combination of folds. Specifically:\n",
    "      - In each iteration, one of the `k` folds is used as the test set, and the remaining `k-1` folds are used as the training set.\n",
    "      - This process is repeated `k` times, each time with a different fold serving as the test set.\n",
    "   - **Calculating the Performance Metric**: After each iteration, a performance metric (e.g., accuracy, precision, recall) is recorded on the test fold. Once all `k` iterations are completed, the model’s overall performance is assessed by averaging these scores. This final average gives a more robust estimate of model performance.\n",
    "\n",
    "### 3. **Choosing the Number of Folds (`k`)**:\n",
    "   - **Common Choices**: `k` is typically set between 5 and 10. For instance, 10-Fold Cross Validation is popular in many applications. A higher value of `k` (like 10) provides a more reliable performance estimate but is also more computationally expensive.\n",
    "   - **Leave-One-Out Cross Validation (LOOCV)**: LOOCV is an extreme case where `k` is set equal to the number of data points, meaning each fold contains just one data point. While LOOCV uses almost all data for training in each iteration, it can be very computationally intensive and often leads to high variance in performance estimates.\n",
    "\n",
    "### 4. **Advantages of K-Fold Cross Validation**:\n",
    "   - **Efficient Use of Data**: K-Fold Cross Validation uses the entire dataset for both training and testing (at different points), making it especially useful when data is limited.\n",
    "   - **More Reliable Estimates**: By averaging performance across multiple test sets, K-Fold Cross Validation provides a more reliable and less biased estimate of model performance compared to a single train-test split.\n",
    "   - **Reduced Variance**: Since each data point is used in both training and testing (but in different folds), it reduces the variability of the performance metric, leading to a more stable and consistent evaluation.\n",
    "\n",
    "### 5. **Disadvantages of K-Fold Cross Validation**:\n",
    "   - **Computationally Intensive**: Training a model `k` times can be computationally expensive, especially for large datasets or complex models.\n",
    "   - **Variance with Small Datasets**: With small datasets, different splits may yield significantly different results, and K-Fold Cross Validation may not fully eliminate the risk of overfitting.\n",
    "\n",
    "### 6. **Applications of K-Fold Cross Validation**:\n",
    "   - **Model Selection and Hyperparameter Tuning**: K-Fold Cross Validation is commonly used during model selection to compare different algorithms or during hyperparameter tuning to find the best configuration for a model.\n",
    "   - **General Performance Evaluation**: In research or benchmarking, K-Fold Cross Validation is used to present a reliable, generalizable estimate of how a model is expected to perform on unseen data.\n",
    "\n",
    "In summary, K-Fold Cross Validation is a robust method for model validation, providing insights into the model’s performance on various subsets of data. By using multiple folds, it helps ensure that the model's evaluation is fair, consistent, and not overly influenced by any single subset of data."
   ]
  },
  {
   "cell_type": "code",
   "execution_count": 1,
   "id": "1681acb3-0345-4b63-ae1d-936778ab803b",
   "metadata": {},
   "outputs": [],
   "source": [
    "from sklearn.linear_model import LogisticRegression\n",
    "from sklearn.svm import SVC\n",
    "from sklearn.ensemble import RandomForestClassifier\n",
    "from sklearn.tree import DecisionTreeClassifier\n",
    "import numpy as np\n",
    "from sklearn.datasets import load_digits\n",
    "import matplotlib.pyplot as plt\n",
    "digits = load_digits()"
   ]
  },
  {
   "cell_type": "code",
   "execution_count": 2,
   "id": "3973ae39-6fa1-4a9c-a2f8-5b6e3803ccfe",
   "metadata": {},
   "outputs": [],
   "source": [
    "from sklearn.model_selection import train_test_split\n",
    "X_train, X_test, y_train, y_test = train_test_split(digits.data,digits.target,test_size=0.3)"
   ]
  },
  {
   "cell_type": "markdown",
   "id": "0b72a37b-6210-44f8-9802-98653e14da40",
   "metadata": {},
   "source": [
    "**Logistic Regression**"
   ]
  },
  {
   "cell_type": "code",
   "execution_count": 3,
   "id": "6df49390-6135-455a-8dfc-33bb0e9ba69b",
   "metadata": {},
   "outputs": [
    {
     "data": {
      "text/plain": [
       "0.9722222222222222"
      ]
     },
     "execution_count": 3,
     "metadata": {},
     "output_type": "execute_result"
    }
   ],
   "source": [
    "lr = LogisticRegression(solver='liblinear',multi_class='ovr')\n",
    "lr.fit(X_train, y_train)\n",
    "lr.score(X_test, y_test)"
   ]
  },
  {
   "cell_type": "markdown",
   "id": "6e23e328-d219-441d-8584-dacfe3bc20c5",
   "metadata": {},
   "source": [
    "**SVM**"
   ]
  },
  {
   "cell_type": "code",
   "execution_count": 4,
   "id": "0795648e-ea20-4991-87c4-7c04a9edd209",
   "metadata": {},
   "outputs": [
    {
     "data": {
      "text/plain": [
       "0.362962962962963"
      ]
     },
     "execution_count": 4,
     "metadata": {},
     "output_type": "execute_result"
    }
   ],
   "source": [
    "svm = SVC(gamma='auto')\n",
    "svm.fit(X_train, y_train)\n",
    "svm.score(X_test, y_test)"
   ]
  },
  {
   "cell_type": "code",
   "execution_count": 5,
   "id": "24d71f12-4dfc-45b2-a23c-05b9255dbc45",
   "metadata": {},
   "outputs": [
    {
     "data": {
      "text/plain": [
       "0.9925925925925926"
      ]
     },
     "execution_count": 5,
     "metadata": {},
     "output_type": "execute_result"
    }
   ],
   "source": [
    "svm = SVC()\n",
    "svm.fit(X_train, y_train)\n",
    "svm.score(X_test, y_test)"
   ]
  },
  {
   "cell_type": "markdown",
   "id": "654eb84b-fa1a-45b9-961d-eddd6c0c9924",
   "metadata": {},
   "source": [
    "**Random Forest**"
   ]
  },
  {
   "cell_type": "code",
   "execution_count": 6,
   "id": "9f1cc353-1896-498c-9867-a227bb3bac8b",
   "metadata": {},
   "outputs": [
    {
     "data": {
      "text/plain": [
       "0.9833333333333333"
      ]
     },
     "execution_count": 6,
     "metadata": {},
     "output_type": "execute_result"
    }
   ],
   "source": [
    "rf = RandomForestClassifier(n_estimators=50)\n",
    "rf.fit(X_train, y_train)\n",
    "rf.score(X_test, y_test)"
   ]
  },
  {
   "cell_type": "markdown",
   "id": "6d9eabf9-0de3-4fa2-9fa1-984f2e24acc6",
   "metadata": {},
   "source": [
    "**Now using the K-Fold cross validation**"
   ]
  },
  {
   "cell_type": "code",
   "execution_count": 7,
   "id": "b0ce2188-f53c-4051-9212-8bbf27fc5aa3",
   "metadata": {},
   "outputs": [
    {
     "data": {
      "text/plain": [
       "KFold(n_splits=3, random_state=None, shuffle=False)"
      ]
     },
     "execution_count": 7,
     "metadata": {},
     "output_type": "execute_result"
    }
   ],
   "source": [
    "from sklearn.model_selection import KFold\n",
    "kf = KFold(n_splits=3)\n",
    "kf"
   ]
  },
  {
   "cell_type": "code",
   "execution_count": 8,
   "id": "028e5a6b-cfe7-44a4-9a86-0b470a487c12",
   "metadata": {},
   "outputs": [
    {
     "name": "stdout",
     "output_type": "stream",
     "text": [
      "[3 4 5 6 7 8] [0 1 2]\n",
      "[0 1 2 6 7 8] [3 4 5]\n",
      "[0 1 2 3 4 5] [6 7 8]\n"
     ]
    }
   ],
   "source": [
    "for train_index, test_index in kf.split([1,2,3,4,5,6,7,8,9]):\n",
    "    print(train_index, test_index)"
   ]
  },
  {
   "cell_type": "code",
   "execution_count": 9,
   "id": "bcf77c85-a8b3-4171-8fe1-3c29a65664a1",
   "metadata": {},
   "outputs": [],
   "source": [
    "def get_score(model, X_train, X_test, y_train, y_test):\n",
    "    model.fit(X_train, y_train)\n",
    "    return model.score(X_test, y_test)"
   ]
  },
  {
   "cell_type": "code",
   "execution_count": 10,
   "id": "1f3f34fe-6463-45fe-8d17-71bd43ad0b2b",
   "metadata": {},
   "outputs": [
    {
     "data": {
      "text/plain": [
       "0.9925925925925926"
      ]
     },
     "execution_count": 10,
     "metadata": {},
     "output_type": "execute_result"
    }
   ],
   "source": [
    "get_score(SVC(), X_train, X_test, y_train, y_test)"
   ]
  },
  {
   "cell_type": "code",
   "execution_count": 11,
   "id": "67066fcc-9a36-48d7-9969-0d101957f568",
   "metadata": {},
   "outputs": [
    {
     "name": "stderr",
     "output_type": "stream",
     "text": [
      "C:\\Users\\Al hamad\\AppData\\Roaming\\Python\\Python312\\site-packages\\sklearn\\linear_model\\_logistic.py:469: ConvergenceWarning: lbfgs failed to converge (status=1):\n",
      "STOP: TOTAL NO. of ITERATIONS REACHED LIMIT.\n",
      "\n",
      "Increase the number of iterations (max_iter) or scale the data as shown in:\n",
      "    https://scikit-learn.org/stable/modules/preprocessing.html\n",
      "Please also refer to the documentation for alternative solver options:\n",
      "    https://scikit-learn.org/stable/modules/linear_model.html#logistic-regression\n",
      "  n_iter_i = _check_optimize_result(\n"
     ]
    },
    {
     "data": {
      "text/plain": [
       "0.9648148148148148"
      ]
     },
     "execution_count": 11,
     "metadata": {},
     "output_type": "execute_result"
    }
   ],
   "source": [
    "get_score(LogisticRegression(), X_train, X_test, y_train, y_test)"
   ]
  },
  {
   "cell_type": "code",
   "execution_count": 12,
   "id": "5bb477bf-ab95-46cf-9a45-653a1250e570",
   "metadata": {},
   "outputs": [],
   "source": [
    "from sklearn.model_selection import StratifiedKFold\n",
    "folds = StratifiedKFold(n_splits=3)\n",
    "scores_logistic = []\n",
    "scores_svm = []\n",
    "scores_rf = []\n",
    "\n",
    "for train_index, test_index in folds.split(digits.data, digits.target):\n",
    "    X_train, X_test, y_train, y_test = digits.data[train_index], digits.data[test_index], \\\n",
    "                                       digits.target[train_index], digits.target[test_index]\n",
    "    scores_logistic.append(get_score(LogisticRegression(solver='liblinear',multi_class='ovr'), X_train, X_test, y_train, y_test))  \n",
    "    scores_svm.append(get_score(SVC(gamma='auto'), X_train, X_test, y_train, y_test))\n",
    "    scores_rf.append(get_score(RandomForestClassifier(n_estimators=50), X_train, X_test, y_train, y_test))"
   ]
  },
  {
   "cell_type": "code",
   "execution_count": 13,
   "id": "14ab54a6-b112-4f91-81ed-6133e394fcb5",
   "metadata": {},
   "outputs": [
    {
     "data": {
      "text/plain": [
       "[0.8948247078464107, 0.9532554257095158, 0.9098497495826378]"
      ]
     },
     "execution_count": 13,
     "metadata": {},
     "output_type": "execute_result"
    }
   ],
   "source": [
    "scores_logistic"
   ]
  },
  {
   "cell_type": "code",
   "execution_count": 14,
   "id": "e5c71e52-928c-4573-aef1-87d770d8d041",
   "metadata": {},
   "outputs": [
    {
     "data": {
      "text/plain": [
       "[0.3806343906510851, 0.41068447412353926, 0.5125208681135225]"
      ]
     },
     "execution_count": 14,
     "metadata": {},
     "output_type": "execute_result"
    }
   ],
   "source": [
    "scores_svm"
   ]
  },
  {
   "cell_type": "code",
   "execution_count": 15,
   "id": "e57ee27e-fe2d-4c33-be1b-fbc56dd4eda6",
   "metadata": {},
   "outputs": [
    {
     "data": {
      "text/plain": [
       "[0.9449081803005008, 0.9532554257095158, 0.9265442404006677]"
      ]
     },
     "execution_count": 15,
     "metadata": {},
     "output_type": "execute_result"
    }
   ],
   "source": [
    "scores_rf"
   ]
  },
  {
   "cell_type": "markdown",
   "id": "13851e8e-cbf9-4fe8-9d4e-b13c3bf4db7a",
   "metadata": {},
   "source": [
    "**cross_val_score function**"
   ]
  },
  {
   "cell_type": "code",
   "execution_count": 16,
   "id": "905f79e2-a8d2-4904-b318-d420899ad380",
   "metadata": {},
   "outputs": [],
   "source": [
    "from sklearn.model_selection import cross_val_score"
   ]
  },
  {
   "cell_type": "markdown",
   "id": "540a3b09-1ea3-4138-8b59-3392f18c756f",
   "metadata": {},
   "source": [
    "**Logistic regression model performance using cross_val_score**"
   ]
  },
  {
   "cell_type": "code",
   "execution_count": 17,
   "id": "45db222d-376e-4ea9-a166-a6eca7a551bd",
   "metadata": {},
   "outputs": [
    {
     "data": {
      "text/plain": [
       "array([0.89482471, 0.95325543, 0.90984975])"
      ]
     },
     "execution_count": 17,
     "metadata": {},
     "output_type": "execute_result"
    }
   ],
   "source": [
    "cross_val_score(LogisticRegression(solver='liblinear',multi_class='ovr'), digits.data, digits.target,cv=3)"
   ]
  },
  {
   "cell_type": "markdown",
   "id": "9cfa4a2f-94c4-4a06-aa0e-d485d9ef13dd",
   "metadata": {},
   "source": [
    "**svm model performance using cross_val_score**"
   ]
  },
  {
   "cell_type": "code",
   "execution_count": 18,
   "id": "531a874c-681f-4b2a-b2a9-582de784bff8",
   "metadata": {},
   "outputs": [
    {
     "data": {
      "text/plain": [
       "array([0.38063439, 0.41068447, 0.51252087])"
      ]
     },
     "execution_count": 18,
     "metadata": {},
     "output_type": "execute_result"
    }
   ],
   "source": [
    "cross_val_score(SVC(gamma='auto'), digits.data, digits.target,cv=3)"
   ]
  },
  {
   "cell_type": "markdown",
   "id": "e0da1501-60b2-4e5b-bfcf-ae4696397999",
   "metadata": {},
   "source": [
    "**random forest performance using cross_val_score**"
   ]
  },
  {
   "cell_type": "code",
   "execution_count": 19,
   "id": "4efdac07-7a22-4cfc-9ef1-0db4f9dd8230",
   "metadata": {},
   "outputs": [
    {
     "data": {
      "text/plain": [
       "array([0.92821369, 0.94824708, 0.92654424])"
      ]
     },
     "execution_count": 19,
     "metadata": {},
     "output_type": "execute_result"
    }
   ],
   "source": [
    "cross_val_score(RandomForestClassifier(n_estimators=40),digits.data, digits.target,cv=3)"
   ]
  },
  {
   "cell_type": "markdown",
   "id": "85c51327-dff1-4930-a8ea-f62c5e6e0765",
   "metadata": {},
   "source": [
    "**Parameter tunning using k fold cross validation**"
   ]
  },
  {
   "cell_type": "code",
   "execution_count": 20,
   "id": "7381b72b-1a23-41ba-8678-f2455675dc78",
   "metadata": {},
   "outputs": [
    {
     "data": {
      "text/plain": [
       "0.8681160769708255"
      ]
     },
     "execution_count": 20,
     "metadata": {},
     "output_type": "execute_result"
    }
   ],
   "source": [
    "scores1 = cross_val_score(RandomForestClassifier(n_estimators=5),digits.data, digits.target, cv=10)\n",
    "np.average(scores1)"
   ]
  },
  {
   "cell_type": "code",
   "execution_count": 21,
   "id": "21c5c449-c889-4399-a7fa-58136e536876",
   "metadata": {},
   "outputs": [
    {
     "data": {
      "text/plain": [
       "0.9382184978274364"
      ]
     },
     "execution_count": 21,
     "metadata": {},
     "output_type": "execute_result"
    }
   ],
   "source": [
    "scores2 = cross_val_score(RandomForestClassifier(n_estimators=20),digits.data, digits.target, cv=10)\n",
    "np.average(scores2)"
   ]
  },
  {
   "cell_type": "code",
   "execution_count": 22,
   "id": "f90fe9ba-2f3c-45c7-856f-b85e162f45e3",
   "metadata": {},
   "outputs": [
    {
     "data": {
      "text/plain": [
       "0.9393513345747981"
      ]
     },
     "execution_count": 22,
     "metadata": {},
     "output_type": "execute_result"
    }
   ],
   "source": [
    "scores3 = cross_val_score(RandomForestClassifier(n_estimators=30),digits.data, digits.target, cv=10)\n",
    "np.average(scores3)"
   ]
  },
  {
   "cell_type": "code",
   "execution_count": 23,
   "id": "16052834-bb46-4600-b03b-3b41f3e4c15d",
   "metadata": {},
   "outputs": [
    {
     "data": {
      "text/plain": [
       "0.9398789571694598"
      ]
     },
     "execution_count": 23,
     "metadata": {},
     "output_type": "execute_result"
    }
   ],
   "source": [
    "scores4 = cross_val_score(RandomForestClassifier(n_estimators=40),digits.data, digits.target, cv=10)\n",
    "np.average(scores4)"
   ]
  },
  {
   "cell_type": "markdown",
   "id": "9ef16d0e-62d9-4a16-85d2-6f23940dc3e0",
   "metadata": {},
   "source": [
    "## Exercise\n",
    "Use iris flower dataset from sklearn library and use cross_val_score against following models to measure the performance of each. In the end figure out the model with best performance,\n",
    "\n",
    "Logistic Regression\n",
    "\n",
    "SVM\n",
    "\n",
    "Decision Tree\n",
    "\n",
    "Random Forest"
   ]
  },
  {
   "cell_type": "code",
   "execution_count": 24,
   "id": "fc6975fe-9010-45da-b37f-1adba7d3ab1d",
   "metadata": {},
   "outputs": [],
   "source": [
    "from sklearn.datasets import load_iris\n",
    "iris = load_iris()"
   ]
  },
  {
   "cell_type": "code",
   "execution_count": 25,
   "id": "c0ed2355-c1ac-4230-a0b0-662cfd08fff0",
   "metadata": {},
   "outputs": [
    {
     "name": "stderr",
     "output_type": "stream",
     "text": [
      "C:\\Users\\Al hamad\\AppData\\Roaming\\Python\\Python312\\site-packages\\sklearn\\linear_model\\_logistic.py:469: ConvergenceWarning: lbfgs failed to converge (status=1):\n",
      "STOP: TOTAL NO. of ITERATIONS REACHED LIMIT.\n",
      "\n",
      "Increase the number of iterations (max_iter) or scale the data as shown in:\n",
      "    https://scikit-learn.org/stable/modules/preprocessing.html\n",
      "Please also refer to the documentation for alternative solver options:\n",
      "    https://scikit-learn.org/stable/modules/linear_model.html#logistic-regression\n",
      "  n_iter_i = _check_optimize_result(\n"
     ]
    },
    {
     "data": {
      "text/plain": [
       "0.9733333333333334"
      ]
     },
     "execution_count": 25,
     "metadata": {},
     "output_type": "execute_result"
    }
   ],
   "source": [
    "l_score = cross_val_score(LogisticRegression(), iris.data, iris.target)\n",
    "np.average(l_score)"
   ]
  },
  {
   "cell_type": "code",
   "execution_count": 26,
   "id": "1f0329a5-9821-478f-9b6c-cbe585c251bf",
   "metadata": {},
   "outputs": [
    {
     "data": {
      "text/plain": [
       "0.9533333333333333"
      ]
     },
     "execution_count": 26,
     "metadata": {},
     "output_type": "execute_result"
    }
   ],
   "source": [
    "l_score_ = cross_val_score(LogisticRegression(solver='liblinear',multi_class='ovr'), iris.data, iris.target,cv=3)\n",
    "np.average(l_score_)"
   ]
  },
  {
   "cell_type": "code",
   "execution_count": 27,
   "id": "7c5d95bf-1438-4d0b-8255-20e4f8348183",
   "metadata": {},
   "outputs": [
    {
     "data": {
      "text/plain": [
       "array([0.98, 0.94, 0.94])"
      ]
     },
     "execution_count": 27,
     "metadata": {},
     "output_type": "execute_result"
    }
   ],
   "source": [
    "cross_val_score(RandomForestClassifier(n_estimators=40),iris.data, iris.target,cv=3)"
   ]
  },
  {
   "cell_type": "code",
   "execution_count": 28,
   "id": "c9d996af-28b5-4f26-ade7-8bb61cbc788f",
   "metadata": {},
   "outputs": [
    {
     "data": {
      "text/plain": [
       "0.9666666666666666"
      ]
     },
     "execution_count": 28,
     "metadata": {},
     "output_type": "execute_result"
    }
   ],
   "source": [
    "svm_score = cross_val_score(SVC(), iris.data, iris.target)\n",
    "np.average(svm_score)"
   ]
  },
  {
   "cell_type": "code",
   "execution_count": 29,
   "id": "a55e0bd7-0bc6-46ad-9194-17a558c196c1",
   "metadata": {},
   "outputs": [
    {
     "data": {
      "text/plain": [
       "0.9733333333333333"
      ]
     },
     "execution_count": 29,
     "metadata": {},
     "output_type": "execute_result"
    }
   ],
   "source": [
    "svm_score_ = cross_val_score(SVC(gamma='auto'), iris.data, iris.target,cv=3)\n",
    "np.average(svm_score_)"
   ]
  },
  {
   "cell_type": "code",
   "execution_count": 30,
   "id": "e44581b2-11bb-4a42-bdd2-efd9dd475e40",
   "metadata": {},
   "outputs": [
    {
     "data": {
      "text/plain": [
       "0.9666666666666668"
      ]
     },
     "execution_count": 30,
     "metadata": {},
     "output_type": "execute_result"
    }
   ],
   "source": [
    "decision_score = cross_val_score(DecisionTreeClassifier(), iris.data, iris.target)\n",
    "np.average(decision_score)"
   ]
  },
  {
   "cell_type": "code",
   "execution_count": 31,
   "id": "5e429ebb-7240-4a08-abca-4e552772e054",
   "metadata": {},
   "outputs": [
    {
     "data": {
      "text/plain": [
       "0.9533333333333333"
      ]
     },
     "execution_count": 31,
     "metadata": {},
     "output_type": "execute_result"
    }
   ],
   "source": [
    "decision_score_ = cross_val_score(DecisionTreeClassifier(criterion='entropy', random_state=0), iris.data, iris.target,cv=3)\n",
    "np.average(decision_score_)"
   ]
  },
  {
   "cell_type": "code",
   "execution_count": 32,
   "id": "24e99a06-2a94-4613-86a9-df3dc7bed0ae",
   "metadata": {},
   "outputs": [
    {
     "data": {
      "text/plain": [
       "0.96"
      ]
     },
     "execution_count": 32,
     "metadata": {},
     "output_type": "execute_result"
    }
   ],
   "source": [
    "rf_score = cross_val_score(RandomForestClassifier(),iris.data, iris.target)\n",
    "np.average(rf_score)"
   ]
  },
  {
   "cell_type": "code",
   "execution_count": 36,
   "id": "753e00d4-aebc-4289-8d9c-8d1dfa1c832b",
   "metadata": {},
   "outputs": [
    {
     "data": {
      "text/plain": [
       "0.96"
      ]
     },
     "execution_count": 36,
     "metadata": {},
     "output_type": "execute_result"
    }
   ],
   "source": [
    "rf_score_ = cross_val_score(RandomForestClassifier(n_estimators=40),iris.data, iris.target, cv=10)\n",
    "np.average(rf_score_)"
   ]
  },
  {
   "cell_type": "code",
   "execution_count": null,
   "id": "d4e44021-05b4-4de4-8ed8-b345f605ae3e",
   "metadata": {},
   "outputs": [],
   "source": []
  }
 ],
 "metadata": {
  "kernelspec": {
   "display_name": "Python 3 (ipykernel)",
   "language": "python",
   "name": "python3"
  },
  "language_info": {
   "codemirror_mode": {
    "name": "ipython",
    "version": 3
   },
   "file_extension": ".py",
   "mimetype": "text/x-python",
   "name": "python",
   "nbconvert_exporter": "python",
   "pygments_lexer": "ipython3",
   "version": "3.12.4"
  }
 },
 "nbformat": 4,
 "nbformat_minor": 5
}
